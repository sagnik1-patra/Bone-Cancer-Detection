{
 "cells": [
  {
   "cell_type": "code",
   "execution_count": 1,
   "id": "98d57ef7-d86f-4e94-9a1f-e0ae508bc7c5",
   "metadata": {},
   "outputs": [
    {
     "name": "stdout",
     "output_type": "stream",
     "text": [
      "WARNING:tensorflow:From C:\\Users\\NXTWAVE\\AppData\\Local\\Programs\\Python\\Python311\\Lib\\site-packages\\keras\\src\\losses.py:2976: The name tf.losses.sparse_softmax_cross_entropy is deprecated. Please use tf.compat.v1.losses.sparse_softmax_cross_entropy instead.\n",
      "\n",
      "WARNING:tensorflow:From C:\\Users\\NXTWAVE\\AppData\\Local\\Programs\\Python\\Python311\\Lib\\site-packages\\keras\\src\\backend.py:1398: The name tf.executing_eagerly_outside_functions is deprecated. Please use tf.compat.v1.executing_eagerly_outside_functions instead.\n",
      "\n",
      "WARNING:tensorflow:From C:\\Users\\NXTWAVE\\AppData\\Local\\Programs\\Python\\Python311\\Lib\\site-packages\\keras\\src\\layers\\pooling\\max_pooling2d.py:161: The name tf.nn.max_pool is deprecated. Please use tf.nn.max_pool2d instead.\n",
      "\n",
      "[INFO] Loaded model + encoder. Classes: ['Cancer', 'Normal']\n",
      "\n",
      "=== Prediction Result ===\n",
      "Image : C:\\Users\\NXTWAVE\\Downloads\\Bone Cancer Detection\\archive\\Research dataset\\Cancer\\3.jpg\n",
      "Predicted Label : Cancer\n",
      "Probability (Cancer class=1) : 0.4945\n"
     ]
    }
   ],
   "source": [
    "# ===== Predict Single Bone Image =====\n",
    "import pickle\n",
    "from pathlib import Path\n",
    "import numpy as np\n",
    "from PIL import Image\n",
    "from tensorflow.keras.models import load_model\n",
    "\n",
    "# ------------------ Paths ------------------\n",
    "BASE_DIR = Path(r\"C:\\Users\\NXTWAVE\\Downloads\\Bone Cancer Detection\")\n",
    "ART = BASE_DIR / \"artifacts\"\n",
    "IMG_PATH = Path(r\"C:\\Users\\NXTWAVE\\Downloads\\Bone Cancer Detection\\archive\\Research dataset\\Cancer\\3.jpg\")\n",
    "\n",
    "IMG_SIZE = 224  # must match training\n",
    "\n",
    "# ------------------ Load Model + Encoder ------------------\n",
    "model = load_model(ART / \"bone_cancer_cnn.h5\")\n",
    "with open(ART / \"label_encoder.pkl\", \"rb\") as f:\n",
    "    le = pickle.load(f)\n",
    "\n",
    "print(\"[INFO] Loaded model + encoder. Classes:\", list(le.classes_))\n",
    "\n",
    "# ------------------ Preprocess ------------------\n",
    "def preprocess_image(img_path, target_size=(IMG_SIZE, IMG_SIZE)):\n",
    "    img = Image.open(img_path).convert(\"RGB\")\n",
    "    img = img.resize(target_size)\n",
    "    arr = np.array(img) / 255.0\n",
    "    return np.expand_dims(arr, axis=0)  # shape (1, H, W, 3)\n",
    "\n",
    "arr = preprocess_image(IMG_PATH)\n",
    "\n",
    "# ------------------ Predict ------------------\n",
    "prob = float(model.predict(arr, verbose=0).ravel()[0])\n",
    "pred_id = 1 if prob >= 0.5 else 0\n",
    "pred_label = le.classes_[pred_id]\n",
    "\n",
    "print(\"\\n=== Prediction Result ===\")\n",
    "print(\"Image :\", IMG_PATH)\n",
    "print(\"Predicted Label :\", pred_label)\n",
    "print(\"Probability (Cancer class=1) :\", round(prob, 4))\n"
   ]
  },
  {
   "cell_type": "code",
   "execution_count": null,
   "id": "1d0aac94-6546-4730-aecb-08ee84d6f69a",
   "metadata": {},
   "outputs": [],
   "source": []
  }
 ],
 "metadata": {
  "kernelspec": {
   "display_name": "Python 3 (ipykernel)",
   "language": "python",
   "name": "python3"
  },
  "language_info": {
   "codemirror_mode": {
    "name": "ipython",
    "version": 3
   },
   "file_extension": ".py",
   "mimetype": "text/x-python",
   "name": "python",
   "nbconvert_exporter": "python",
   "pygments_lexer": "ipython3",
   "version": "3.11.9"
  }
 },
 "nbformat": 4,
 "nbformat_minor": 5
}
